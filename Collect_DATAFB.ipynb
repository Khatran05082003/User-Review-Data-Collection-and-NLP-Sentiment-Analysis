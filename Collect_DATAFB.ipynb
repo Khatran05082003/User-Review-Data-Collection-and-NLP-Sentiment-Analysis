{
 "cells": [
  {
   "cell_type": "code",
   "execution_count": 1,
   "id": "17595181",
   "metadata": {},
   "outputs": [],
   "source": [
    "import pandas as pd\n",
    "import numpy as np\n",
    "from bs4 import BeautifulSoup\n",
    "import requests "
   ]
  },
  {
   "cell_type": "code",
   "execution_count": 2,
   "id": "113af7ed",
   "metadata": {},
   "outputs": [],
   "source": [
    "#create an empty list to collect all reviews\n",
    "reviews  = []\n",
    "\n",
    "#create an empty list to collect rating stars\n",
    "stars = []\n",
    "\n",
    "#create an empty list to collect date\n",
    "date = []\n",
    "\n",
    "##create an empty list to collect all links of reviews\n",
    "links=[]"
   ]
  },
  {
   "cell_type": "code",
   "execution_count": 3,
   "id": "cb991890",
   "metadata": {},
   "outputs": [],
   "source": [
    "for i in range(1,101):\n",
    "    page = requests.get(f\"https://www.trustpilot.com/review/www.facebook.com?page={i}\")\n",
    "    \n",
    "    soup = BeautifulSoup(page.content, \"html5\")\n",
    "    for k in soup.find_all('div',class_='styles_reviewContent__0Q2Tg'):\n",
    "        links.append(k.find('a').get('href'))"
   ]
  },
  {
   "cell_type": "code",
   "execution_count": 4,
   "id": "c6ead8e1",
   "metadata": {},
   "outputs": [],
   "source": [
    "for link in links:\n",
    "    page = requests.get('https://www.trustpilot.com' + link)\n",
    "    soup = BeautifulSoup(page.content, \"html5\")\n",
    "\n",
    "    review_elements = soup.find_all(\"p\", class_=\"typography_body-l__KUYFJ typography_appearance-default__AAY17 typography_color-black__5LYEn\")\n",
    "    if review_elements:\n",
    "        for item in review_elements:\n",
    "            reviews.append(item.text)\n",
    "    else:\n",
    "        reviews.append(np.nan)\n",
    "    \n",
    "    for item in soup.find_all(\"time\"):\n",
    "        date.append(item.get('datetime'))\n",
    "        \n",
    "    for item in soup.find_all('div', class_='styles_reviewHeader__iU9Px'):\n",
    "        stars.append(item.get('data-service-review-rating'))"
   ]
  },
  {
   "cell_type": "code",
   "execution_count": 5,
   "id": "839936d8",
   "metadata": {},
   "outputs": [],
   "source": [
    "df = pd.DataFrame({'reviews': reviews, 'date': date, 'stars': stars})"
   ]
  },
  {
   "cell_type": "code",
   "execution_count": 6,
   "id": "69661472",
   "metadata": {},
   "outputs": [],
   "source": [
    "df.to_csv(\"C:/Users/ACER/Downloads/reviews1.csv\", encoding='utf-8')"
   ]
  }
 ],
 "metadata": {
  "kernelspec": {
   "display_name": "Python 3 (ipykernel)",
   "language": "python",
   "name": "python3"
  },
  "language_info": {
   "codemirror_mode": {
    "name": "ipython",
    "version": 3
   },
   "file_extension": ".py",
   "mimetype": "text/x-python",
   "name": "python",
   "nbconvert_exporter": "python",
   "pygments_lexer": "ipython3",
   "version": "3.9.12"
  }
 },
 "nbformat": 4,
 "nbformat_minor": 5
}
